{
  "nbformat": 4,
  "nbformat_minor": 0,
  "metadata": {
    "colab": {
      "provenance": []
    },
    "kernelspec": {
      "name": "python3",
      "display_name": "Python 3"
    },
    "language_info": {
      "name": "python"
    }
  },
  "cells": [
    {
      "cell_type": "code",
      "source": [
        "import numpy as np\n",
        "import pandas as pd\n",
        "from sklearn.datasets import load_iris"
      ],
      "metadata": {
        "id": "PA-0dXxynRnE"
      },
      "execution_count": 2,
      "outputs": []
    },
    {
      "cell_type": "code",
      "source": [
        "data = load_iris()\n",
        "X = pd.DataFrame(data.data).values\n",
        "y = data.target"
      ],
      "metadata": {
        "id": "fL7RdQC7nRjn"
      },
      "execution_count": 35,
      "outputs": []
    },
    {
      "cell_type": "code",
      "source": [
        "class Node:\n",
        "  def __init__(self, feature_index=None, threshold=None, left=None, right=None, info_gain=None, value=None):\n",
        "\n",
        "    # for decision node\n",
        "    self.feature_index = feature_index\n",
        "    self.threshold = threshold\n",
        "    self.left = left\n",
        "    self.right = right\n",
        "    self.info_gain = info_gain\n",
        "\n",
        "    # for leaf node\n",
        "    self.value = value"
      ],
      "metadata": {
        "id": "pekzHFYAn3Yn"
      },
      "execution_count": 36,
      "outputs": []
    },
    {
      "cell_type": "code",
      "source": [
        "class DecisionTreeClassifier:\n",
        "  def __init__(self, min_samples_split=2, max_depth=2):\n",
        "    self.root = None\n",
        "    self.min_samples_split = min_samples_split\n",
        "    self.max_depth = max_depth\n",
        "\n",
        "  def build_tree(self, dataset, curr_depth=0):\n",
        "    X, Y = dataset[:, :-1], dataset[:, -1]\n",
        "    num_samples, num_features = np.shape(X)\n",
        "\n",
        "    if num_samples >= self.min_samples_split and curr_depth <= self.max_depth:\n",
        "      best_split = self.get_best_split(dataset, num_samples, num_features)\n",
        "      if best_split[\"info_gain\"] > 0:\n",
        "        left_subtree = self.build_tree(best_split[\"dataset_left\"], curr_depth+1)\n",
        "        right_subtree = self.build_tree(best_split[\"dataset_right\"], curr_depth+1)\n",
        "        return Node(best_split[\"feature_index\"], best_split[\"threshold\"], left_subtree, right_subtree, best_split[\"info_gain\"])\n",
        "\n",
        "    leaf_value = self.calculate_leaf_value(Y)\n",
        "    return Node(value=leaf_value)\n",
        "\n",
        "  def get_best_split(self, dataset, num_samples, num_features):\n",
        "    best_split = {}\n",
        "    max_info_gain = -float(\"inf\")\n",
        "    for feature_index in range(num_features):\n",
        "      feature_values = dataset[:, feature_index]\n",
        "      possible_thresholds = np.unique(feature_values)\n",
        "      for threshold in possible_thresholds:\n",
        "        dataset_left, dataset_right = self.split(dataset, feature_index, threshold)\n",
        "        if len(dataset_left) > 0 and len(dataset_right) > 0:\n",
        "          y, left_y, right_y = dataset[:, -1], dataset_left[:, -1], dataset_right[:, -1]\n",
        "          curr_info_gain = self.information_gain(y, left_y, right_y)\n",
        "          if curr_info_gain > max_info_gain:\n",
        "            best_split[\"feature_index\"] = feature_index\n",
        "            best_split[\"threshold\"] = threshold\n",
        "            best_split[\"dataset_left\"] = dataset_left\n",
        "            best_split[\"dataset_right\"] = dataset_right\n",
        "            best_split[\"info_gain\"] = curr_info_gain\n",
        "            max_info_gain = curr_info_gain\n",
        "\n",
        "    return best_split\n",
        "\n",
        "  def split(self, dataset, feature_index, threshold):\n",
        "    dataset_left = np.array([row for row in dataset if row[feature_index] <= threshold])\n",
        "    dataset_right = np.array([row for row in dataset if row[feature_index] > threshold])\n",
        "    return dataset_left, dataset_right\n",
        "\n",
        "  def information_gain(self, parent, l_child, r_child, mode='entropy'):\n",
        "    weight_l = len(l_child) / len(parent)\n",
        "    weight_r = len(r_child) / len(parent)\n",
        "\n",
        "    if mode == 'gini':\n",
        "      gain = self.gini_index(parent) - (weight_l * self.gini_index(l_child) + weight_r * self.gini_index(r_child))\n",
        "    else:\n",
        "      gain = self.entropy(parent) - (weight_l * self.entropy(l_child) + weight_r * self.entropy(r_child))\n",
        "    return gain\n",
        "\n",
        "  def entropy(self, y):\n",
        "    class_labels = np.unique(y)\n",
        "    entropy = 0\n",
        "    for cls in class_labels:\n",
        "      p_cls = len(y[y == cls]) / len(y)\n",
        "      entropy += -p_cls * np.log2(p_cls)\n",
        "    return entropy\n",
        "\n",
        "  def gini_index(self, y):\n",
        "    class_labels = np.unique(y)\n",
        "    gini = 0\n",
        "    for cls in class_labels:\n",
        "      p_cls = len(y[y == cls]) / len(y)\n",
        "      gini += p_cls ** 2\n",
        "    return 1- gini\n",
        "\n",
        "  def calculate_leaf_value(self, y):\n",
        "    Y = list(y)\n",
        "    return max(Y, key = Y.count)\n",
        "\n",
        "  def fit(self, X, Y):\n",
        "    dataset = np.concatenate((X, Y), axis = 1)\n",
        "    self.root = self.build_tree(dataset)\n",
        "\n",
        "  def predict(self, X):\n",
        "    predictions = [self.make_prediction(x, self.root) for x in X]\n",
        "    return predictions\n",
        "\n",
        "  def make_prediction(self, x, tree):\n",
        "    if tree.value != None:\n",
        "      return tree.value\n",
        "    feature_val = x[tree.feature_index]\n",
        "    if feature_val <= tree.threshold:\n",
        "      return self.make_prediction(x, tree.left)\n",
        "    else:\n",
        "      return self.make_prediction(x, tree.right)"
      ],
      "metadata": {
        "id": "Fmy5hD6Un3SU"
      },
      "execution_count": 43,
      "outputs": []
    },
    {
      "cell_type": "code",
      "source": [
        "from sklearn.model_selection import train_test_split\n",
        "from sklearn.metrics import accuracy_score\n",
        "\n",
        "y = y.reshape(-1, 1)\n",
        "X_train, X_test, y_train, y_test = train_test_split(X, y, test_size=0.2, random_state=41)"
      ],
      "metadata": {
        "id": "n5bjAcEBt_On"
      },
      "execution_count": 44,
      "outputs": []
    },
    {
      "cell_type": "code",
      "source": [
        "model = DecisionTreeClassifier(min_samples_split=3, max_depth=3)\n",
        "model.fit(X_train, y_train)"
      ],
      "metadata": {
        "id": "LyglYWnmt_MC"
      },
      "execution_count": 45,
      "outputs": []
    },
    {
      "cell_type": "code",
      "source": [
        "y_pred = model.predict(X_test)\n",
        "accuracy_score(y_test, y_pred)"
      ],
      "metadata": {
        "colab": {
          "base_uri": "https://localhost:8080/"
        },
        "id": "dawz6XRluLNb",
        "outputId": "6a30d7db-0638-45da-a21e-78915e782bad"
      },
      "execution_count": 46,
      "outputs": [
        {
          "output_type": "execute_result",
          "data": {
            "text/plain": [
              "0.9333333333333333"
            ]
          },
          "metadata": {},
          "execution_count": 46
        }
      ]
    },
    {
      "cell_type": "code",
      "source": [],
      "metadata": {
        "id": "ermKLXZcu938"
      },
      "execution_count": null,
      "outputs": []
    }
  ]
}