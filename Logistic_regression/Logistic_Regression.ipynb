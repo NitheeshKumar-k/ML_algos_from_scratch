{
  "nbformat": 4,
  "nbformat_minor": 0,
  "metadata": {
    "colab": {
      "provenance": []
    },
    "kernelspec": {
      "name": "python3",
      "display_name": "Python 3"
    },
    "language_info": {
      "name": "python"
    }
  },
  "cells": [
    {
      "cell_type": "code",
      "execution_count": 3,
      "metadata": {
        "id": "jObPkybod6uH"
      },
      "outputs": [],
      "source": [
        "import numpy as np\n",
        "import pandas as pd\n",
        "from sklearn.preprocessing import StandardScaler\n",
        "from sklearn.model_selection import train_test_split\n",
        "from sklearn.metrics import accuracy_score"
      ]
    },
    {
      "cell_type": "code",
      "source": [
        "class LogisticRegression:\n",
        "  def __init__(self, learning_rate, epochs):\n",
        "    self.learning_rate = learning_rate\n",
        "    self.epochs = epochs\n",
        "\n",
        "  def fit(self, X, y):\n",
        "    self.X = X\n",
        "    self.y = y\n",
        "    self.m, self.n = X.shape\n",
        "    self.weights = np.zeros(self.n)\n",
        "    self.bias = 0\n",
        "    for epoch in range(self.epochs):\n",
        "      self.update_weights()\n",
        "\n",
        "  def update_weights(self):\n",
        "    y_hat = self.sigmoid(self.X)\n",
        "    dw = (1 / self.m) * np.dot(self.X.T, (y_hat - self.y))\n",
        "    db = (1 / self.m) * np.sum(y_hat - self.y)\n",
        "    self.weights -= self.learning_rate * dw\n",
        "    self.bias -= self.learning_rate * db\n",
        "\n",
        "  def sigmoid(self, X):\n",
        "    return 1 / (1 + np.exp(-(self.weights.dot(X.T) + self.bias)))\n",
        "\n",
        "  def predict(self, X):\n",
        "    y_hat = self.sigmoid(X)\n",
        "    return np.where(y_hat >= 0.5, 1, 0)\n"
      ],
      "metadata": {
        "id": "3XixwJkGeFaf"
      },
      "execution_count": 8,
      "outputs": []
    },
    {
      "cell_type": "code",
      "source": [
        "diabetes_dataset = pd.read_csv('/content/diabetes.csv')\n",
        "X = diabetes_dataset.drop(columns = 'Outcome', axis=1)\n",
        "y = diabetes_dataset['Outcome']"
      ],
      "metadata": {
        "id": "BGvJNdVjeGMT"
      },
      "execution_count": 4,
      "outputs": []
    },
    {
      "cell_type": "code",
      "source": [
        "scaler = StandardScaler()\n",
        "X = scaler.fit_transform(X)"
      ],
      "metadata": {
        "id": "COtB49CkeGI9"
      },
      "execution_count": 5,
      "outputs": []
    },
    {
      "cell_type": "code",
      "source": [
        "X_train, X_test, y_train, y_test = train_test_split(X, y, test_size=0.2, random_state=2)"
      ],
      "metadata": {
        "id": "L6_0pIrYeGGB"
      },
      "execution_count": 6,
      "outputs": []
    },
    {
      "cell_type": "code",
      "source": [
        "model = LogisticRegression(learning_rate=0.01, epochs=1000)\n",
        "model.fit(X_train, y_train)\n",
        "y_train_pred = model.predict(X_train)\n",
        "train_accuracy = accuracy_score(y_train, y_train_pred)\n",
        "print('Train Accuracy:', train_accuracy)\n",
        "y_test_pred = model.predict(X_test)\n",
        "test_accuracy = accuracy_score(y_test, y_test_pred)\n",
        "print('Test Accuracy:', test_accuracy)"
      ],
      "metadata": {
        "colab": {
          "base_uri": "https://localhost:8080/"
        },
        "id": "1Qb-DxsseGC8",
        "outputId": "11e14e0c-9910-4e5b-ac2f-8a46bc24bf8d"
      },
      "execution_count": 10,
      "outputs": [
        {
          "output_type": "stream",
          "name": "stdout",
          "text": [
            "Train Accuracy: 0.7768729641693811\n",
            "Test Accuracy: 0.7662337662337663\n"
          ]
        }
      ]
    },
    {
      "cell_type": "code",
      "source": [],
      "metadata": {
        "id": "uC-UP0fQeGAL"
      },
      "execution_count": null,
      "outputs": []
    }
  ]
}