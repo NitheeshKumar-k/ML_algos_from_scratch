{
  "nbformat": 4,
  "nbformat_minor": 0,
  "metadata": {
    "colab": {
      "provenance": []
    },
    "kernelspec": {
      "name": "python3",
      "display_name": "Python 3"
    },
    "language_info": {
      "name": "python"
    }
  },
  "cells": [
    {
      "cell_type": "code",
      "execution_count": 1,
      "metadata": {
        "id": "CjApKp0Ifrpt"
      },
      "outputs": [],
      "source": [
        "import numpy as np\n",
        "import pandas as pd"
      ]
    },
    {
      "cell_type": "code",
      "source": [
        "class SVM_Classifier:\n",
        "  def __init__(self, learning_rate, epochs, lambda_parameter):\n",
        "    self.learning_rate = learning_rate\n",
        "    self.epochs = epochs\n",
        "    self.lambda_parameter = lambda_parameter\n",
        "\n",
        "  def fit(self, X, y):\n",
        "    self.m, self.n = X.shape\n",
        "    self.X = X\n",
        "    self.y = y\n",
        "    self.weights = np.zeros(self.n)\n",
        "    self.bias = 0\n",
        "\n",
        "    for epoch in range(self.epochs):\n",
        "      self.update_weights()\n",
        "\n",
        "  def update_weights(self):\n",
        "    y_label = np.where(self.y <= 0, -1, 1)\n",
        "    for index, x_i in enumerate(self.X):\n",
        "      condition = y_label[index] * (np.dot(x_i, self.weights) - self.bias) >= 1\n",
        "      if (condition):\n",
        "        dw = 2 * self.lambda_parameter * self.weights\n",
        "        db = 0\n",
        "      else:\n",
        "        dw = 2 * self.lambda_parameter * self.weights - np.dot(x_i, y_label[index])\n",
        "        db = y_label[index]\n",
        "      self.weights -= self.learning_rate * dw\n",
        "      self.bias -= self.learning_rate * db\n",
        "\n",
        "  def predict(self, X):\n",
        "    output = np.dot(X, self.weights) - self.bias\n",
        "    predicted_labels = np.sign(output)\n",
        "    y_hat = np.where(predicted_labels <= -1, 0, 1)\n",
        "    return y_hat"
      ],
      "metadata": {
        "id": "bZcPXoocfxRS"
      },
      "execution_count": 7,
      "outputs": []
    },
    {
      "cell_type": "code",
      "source": [
        "from sklearn.preprocessing import StandardScaler\n",
        "from sklearn.model_selection import train_test_split\n",
        "from sklearn.metrics import accuracy_score"
      ],
      "metadata": {
        "id": "fpjoQHkQfxJ_"
      },
      "execution_count": 3,
      "outputs": []
    },
    {
      "cell_type": "code",
      "source": [
        "diabetes_data = pd.read_csv('/content/diabetes.csv')\n",
        "X = diabetes_data.drop(columns = 'Outcome', axis = 1)\n",
        "y = diabetes_data['Outcome']"
      ],
      "metadata": {
        "id": "cGOOVYKSfxGf"
      },
      "execution_count": 4,
      "outputs": []
    },
    {
      "cell_type": "code",
      "source": [
        "scaler = StandardScaler()\n",
        "X = scaler.fit_transform(X)\n",
        "X_train, X_test, y_train, y_test = train_test_split(X, y, test_size=0.2, random_state=2)"
      ],
      "metadata": {
        "id": "1bqGzOpnfxDi"
      },
      "execution_count": 5,
      "outputs": []
    },
    {
      "cell_type": "code",
      "source": [
        "model = SVM_Classifier(learning_rate=0.001, epochs=1000, lambda_parameter=0.01)\n",
        "model.fit(X_train, y_train)\n",
        "y_train_pred = model.predict(X_train)\n",
        "y_test_pred = model.predict(X_test)\n",
        "training_accuracy = accuracy_score(y_train, y_train_pred)\n",
        "test_accuracy = accuracy_score(y_test, y_test_pred)\n",
        "print(f'Training Accuracy: {training_accuracy}')\n",
        "print(f'Test Accuracy: {test_accuracy}')"
      ],
      "metadata": {
        "colab": {
          "base_uri": "https://localhost:8080/"
        },
        "id": "o54EUflSfxAe",
        "outputId": "7f7e87d4-c3f7-4db5-98fa-1f3b6a95eb74"
      },
      "execution_count": 8,
      "outputs": [
        {
          "output_type": "stream",
          "name": "stdout",
          "text": [
            "Training Accuracy: 0.7768729641693811\n",
            "Test Accuracy: 0.7532467532467533\n"
          ]
        }
      ]
    },
    {
      "cell_type": "code",
      "source": [],
      "metadata": {
        "id": "RyrN2Ck5fw9S"
      },
      "execution_count": null,
      "outputs": []
    }
  ]
}