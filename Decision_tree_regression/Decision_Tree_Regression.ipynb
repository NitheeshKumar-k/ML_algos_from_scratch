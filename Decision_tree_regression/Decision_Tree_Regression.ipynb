{
  "nbformat": 4,
  "nbformat_minor": 0,
  "metadata": {
    "colab": {
      "provenance": []
    },
    "kernelspec": {
      "name": "python3",
      "display_name": "Python 3"
    },
    "language_info": {
      "name": "python"
    }
  },
  "cells": [
    {
      "cell_type": "code",
      "execution_count": 2,
      "metadata": {
        "id": "g_e4yMMpwAL4"
      },
      "outputs": [],
      "source": [
        "import numpy as np\n",
        "import pandas as pd\n",
        "from sklearn.datasets import fetch_california_housing"
      ]
    },
    {
      "cell_type": "code",
      "source": [
        "data = fetch_california_housing(as_frame = True)\n",
        "features = pd.DataFrame(data.data, columns = data.feature_names)\n",
        "target = data.target\n",
        "features['MedHouseVal'] = target\n",
        "sample_data = features.sample(frac=0.2).reset_index(drop=True)"
      ],
      "metadata": {
        "id": "SZ-6ScU9xyYK"
      },
      "execution_count": 11,
      "outputs": []
    },
    {
      "cell_type": "code",
      "source": [
        "X = sample_data.drop(columns='MedHouseVal', axis=1)\n",
        "y = sample_data['MedHouseVal']"
      ],
      "metadata": {
        "id": "cJY5XJVM6B7J"
      },
      "execution_count": 12,
      "outputs": []
    },
    {
      "cell_type": "code",
      "source": [
        "class Node:\n",
        "  def __init__(self, feature_index=None, threshold=None, left=None, right=None, var_red=None, value=None):\n",
        "\n",
        "    # for decision node\n",
        "    self.feature_index = feature_index\n",
        "    self.threshold = threshold\n",
        "    self.left = left\n",
        "    self.right = right\n",
        "    self.var_red = var_red\n",
        "\n",
        "    # for leaf node\n",
        "    self.value = value"
      ],
      "metadata": {
        "id": "KarIrU4HxyUx"
      },
      "execution_count": 13,
      "outputs": []
    },
    {
      "cell_type": "code",
      "source": [
        "class DecisionTreeRegression:\n",
        "  def __init__(self, min_samples_split=2, max_depth=2):\n",
        "    self.root = None\n",
        "    self.min_samples_split = min_samples_split\n",
        "    self.max_depth = max_depth\n",
        "\n",
        "  def build_tree(self, dataset, curr_depth=0):\n",
        "    X, Y = dataset[:, :-1], dataset[:, -1]\n",
        "    num_samples, num_features = np.shape(X)\n",
        "\n",
        "    if num_samples >= self.min_samples_split and curr_depth <= self.max_depth:\n",
        "      best_split = self.get_best_split(dataset, num_samples, num_features)\n",
        "      if best_split[\"var_red\"] > 0:\n",
        "        left_subtree = self.build_tree(best_split[\"dataset_left\"], curr_depth+1)\n",
        "        right_subtree = self.build_tree(best_split[\"dataset_right\"], curr_depth+1)\n",
        "        return Node(best_split[\"feature_index\"], best_split[\"threshold\"], left_subtree, right_subtree, best_split[\"var_red\"])\n",
        "\n",
        "    leaf_value = self.calculate_leaf_value(Y)\n",
        "    return Node(value=leaf_value)\n",
        "\n",
        "  def get_best_split(self, dataset, num_samples, num_features):\n",
        "    best_split = {}\n",
        "    max_var_red = -float(\"inf\")\n",
        "    for feature_index in range(num_features):\n",
        "      feature_values = dataset[:, feature_index]\n",
        "      possible_thresholds = np.unique(feature_values)\n",
        "      for threshold in possible_thresholds:\n",
        "        dataset_left, dataset_right = self.split(dataset, feature_index, threshold)\n",
        "        if len(dataset_left) > 0 and len(dataset_right) > 0:\n",
        "          y, left_y, right_y = dataset[:, -1], dataset_left[:, -1], dataset_right[:, -1]\n",
        "          curr_var_red = self.variance_reduction(y, left_y, right_y)\n",
        "          if curr_var_red > max_var_red:\n",
        "            best_split[\"feature_index\"] = feature_index\n",
        "            best_split[\"threshold\"] = threshold\n",
        "            best_split[\"dataset_left\"] = dataset_left\n",
        "            best_split[\"dataset_right\"] = dataset_right\n",
        "            best_split[\"var_red\"] = curr_var_red\n",
        "            max_var_red = curr_var_red\n",
        "\n",
        "    return best_split\n",
        "\n",
        "  def split(self, dataset, feature_index, threshold):\n",
        "    dataset_left = np.array([row for row in dataset if row[feature_index] <= threshold])\n",
        "    dataset_right = np.array([row for row in dataset if row[feature_index] > threshold])\n",
        "    return dataset_left, dataset_right\n",
        "\n",
        "  def variance_reduction(self, parent, l_child, r_child):\n",
        "    weight_l = len(l_child) / len(parent)\n",
        "    weight_r = len(r_child) / len(parent)\n",
        "    reduction = np.var(parent) - (weight_l * np.var(l_child) + weight_r * np.var(r_child))\n",
        "    return reduction\n",
        "\n",
        "  def calculate_leaf_value(self, y):\n",
        "    return np.mean(y)\n",
        "\n",
        "  def fit(self, X, Y):\n",
        "    dataset = np.concatenate((X, Y), axis = 1)\n",
        "    self.root = self.build_tree(dataset)\n",
        "\n",
        "  def predict(self, X):\n",
        "    predictions = [self.make_prediction(x, self.root) for x in X]\n",
        "    return predictions\n",
        "\n",
        "  def make_prediction(self, x, tree):\n",
        "    if tree.value != None:\n",
        "      return tree.value\n",
        "    feature_val = x[tree.feature_index]\n",
        "    if feature_val <= tree.threshold:\n",
        "      return self.make_prediction(x, tree.left)\n",
        "    else:\n",
        "      return self.make_prediction(x, tree.right)"
      ],
      "metadata": {
        "id": "1-ukNFXIxySG"
      },
      "execution_count": 14,
      "outputs": []
    },
    {
      "cell_type": "code",
      "source": [
        "from sklearn.model_selection import train_test_split\n",
        "from sklearn.metrics import mean_squared_error\n",
        "\n",
        "X_train, X_test, y_train, y_test = train_test_split(X, y, test_size=0.2, random_state=41)"
      ],
      "metadata": {
        "id": "ICY_bQRN0dJg"
      },
      "execution_count": 15,
      "outputs": []
    },
    {
      "cell_type": "code",
      "source": [
        "model = DecisionTreeRegression(min_samples_split=3, max_depth=3)\n",
        "model.fit(X_train.values, y_train.values.reshape(-1, 1))"
      ],
      "metadata": {
        "id": "wNxNJjqW0hJz"
      },
      "execution_count": 16,
      "outputs": []
    },
    {
      "cell_type": "code",
      "source": [
        "y_pred = model.predict(X_test.values)\n",
        "np.sqrt(mean_squared_error(y_test, y_pred))"
      ],
      "metadata": {
        "colab": {
          "base_uri": "https://localhost:8080/"
        },
        "id": "d7k8WsXd1DK6",
        "outputId": "0477696e-651b-4908-fa5d-a4d17db63ff7"
      },
      "execution_count": 17,
      "outputs": [
        {
          "output_type": "execute_result",
          "data": {
            "text/plain": [
              "0.7542399154330638"
            ]
          },
          "metadata": {},
          "execution_count": 17
        }
      ]
    },
    {
      "cell_type": "code",
      "source": [],
      "metadata": {
        "id": "Fn4hzGEE2xb0"
      },
      "execution_count": null,
      "outputs": []
    }
  ]
}