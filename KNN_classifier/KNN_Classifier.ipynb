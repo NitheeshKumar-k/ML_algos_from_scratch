{
  "nbformat": 4,
  "nbformat_minor": 0,
  "metadata": {
    "colab": {
      "provenance": []
    },
    "kernelspec": {
      "name": "python3",
      "display_name": "Python 3"
    },
    "language_info": {
      "name": "python"
    }
  },
  "cells": [
    {
      "cell_type": "code",
      "execution_count": 1,
      "metadata": {
        "id": "WFd_-pliJXco"
      },
      "outputs": [],
      "source": [
        "import numpy as np\n",
        "import pandas as pd\n",
        "import statistics"
      ]
    },
    {
      "cell_type": "code",
      "source": [
        "class KNN_Classifier:\n",
        "  def __init__(self, distance_metric):\n",
        "    self.distance_metric = distance_metric\n",
        "\n",
        "  def get_distance_metric(self, x1, x2):\n",
        "    dist = np.inf\n",
        "    if self.distance_metric == 'euclidean':\n",
        "      dist = np.sqrt(np.sum(np.square(x1-x2)))\n",
        "    elif self.distance_metric == 'manhatten':\n",
        "      dist = np.sum(np.abs(x1-x2))\n",
        "    return dist\n",
        "\n",
        "  def nearest_neighbors(self, X, test_data, k):\n",
        "    distances = []\n",
        "    for x in X:\n",
        "      distance = self.get_distance_metric(x, test_data)\n",
        "      distances.append((distance, x))\n",
        "\n",
        "    distances.sort(key=lambda x: x[0])\n",
        "    neighbors = []\n",
        "    for i in range(k):\n",
        "      neighbors.append(distances[i][1])\n",
        "    return neighbors\n",
        "\n",
        "\n",
        "  def predict(self, X, test_data, k):\n",
        "    neighbors = self.nearest_neighbors(X, test_data, k)\n",
        "    labels = [neighbor[-1] for neighbor in neighbors]\n",
        "    return statistics.mode(labels)"
      ],
      "metadata": {
        "id": "Bumax3rAJak7"
      },
      "execution_count": 15,
      "outputs": []
    },
    {
      "cell_type": "code",
      "source": [
        "from sklearn.model_selection import train_test_split\n",
        "from sklearn.metrics import accuracy_score"
      ],
      "metadata": {
        "id": "0I5SwYDdJahl"
      },
      "execution_count": 2,
      "outputs": []
    },
    {
      "cell_type": "code",
      "source": [
        "diabetes_dataset = pd.read_csv('/content/diabetes.csv')\n",
        "X = diabetes_dataset.to_numpy()\n",
        "X_train, X_test= train_test_split(X, test_size=0.2, random_state=2)"
      ],
      "metadata": {
        "id": "rjMSimS7Jabk"
      },
      "execution_count": 4,
      "outputs": []
    },
    {
      "cell_type": "code",
      "source": [
        "model = KNN_Classifier('euclidean')\n",
        "test_pred = np.array([model.predict(X_train, test_data, 5) for test_data in X_test])\n",
        "print(accuracy_score(X_test[:,-1], test_pred))"
      ],
      "metadata": {
        "colab": {
          "base_uri": "https://localhost:8080/"
        },
        "id": "phauIo_3JaYu",
        "outputId": "11fed5ab-70e7-4166-80fd-b29e761656cc"
      },
      "execution_count": 16,
      "outputs": [
        {
          "output_type": "stream",
          "name": "stdout",
          "text": [
            "0.7272727272727273\n"
          ]
        }
      ]
    },
    {
      "cell_type": "code",
      "source": [],
      "metadata": {
        "id": "n6Mi3xI0JaV6"
      },
      "execution_count": 6,
      "outputs": []
    }
  ]
}